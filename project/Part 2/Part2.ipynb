{
 "cells": [
  {
   "cell_type": "markdown",
   "metadata": {},
   "source": [
    "# Project Part 2 Solutions"
   ]
  },
  {
   "cell_type": "markdown",
   "metadata": {},
   "source": [
    "## (a)"
   ]
  },
  {
   "cell_type": "code",
   "execution_count": 1,
   "metadata": {},
   "outputs": [],
   "source": [
    "import numpy as np\n",
    "\n",
    "file=np.load(\"part2.npz\")\n",
    "beta_old=file['beta_old']\n",
    "N=file['N']\n",
    "Svc_0_PMF=file['Svc_0_PMF']\n",
    "Lc=file['Lc']\n",
    "Ic_0=file['Ic_0']\n",
    "gamma=file['gamma']\n",
    "L_observed=file['L_observed']\n",
    "nb_nodes = Svc_0_PMF.shape[0]"
   ]
  },
  {
   "cell_type": "code",
   "execution_count": 2,
   "metadata": {},
   "outputs": [],
   "source": [
    "def SIR(t, Z, N, betas, gamma):\n",
    "    (S_vec, I_vec, R) = (Z[:16].reshape(4, 4), Z[16:20], Z[-1])\n",
    "    I = I_vec.sum()\n",
    "    dSdt = -betas*S_vec*I/N \n",
    "    dIdt = -dSdt.sum(axis=0)-gamma*I_vec\n",
    "    dRdt = np.array([gamma*I])\n",
    "    return np.concatenate((dSdt.flatten(), dIdt, dRdt))"
   ]
  },
  {
   "cell_type": "code",
   "execution_count": 3,
   "metadata": {},
   "outputs": [],
   "source": [
    "from scipy.integrate import solve_ivp\n",
    "from scipy.optimize import fmin\n",
    "from sklearn.metrics import mean_squared_error\n",
    "\n",
    "Svc_0_PMF /= Svc_0_PMF.sum(axis=(1, 2), keepdims=True)\n",
    "Svc_0 = (N-Ic_0.sum(axis=1))[:, np.newaxis, np.newaxis]*Svc_0_PMF\n",
    "Svc_0 = Svc_0.round().astype(int)\n",
    "R0 = np.zeros((nb_nodes)).astype(int)\n",
    "\n",
    "t = np.linspace(0, 199, 200)\n",
    "\n",
    "S = np.zeros((nb_nodes, 4, 4, len(t)))\n",
    "I = np.zeros((nb_nodes, 4, len(t)))\n",
    "R = np.zeros((nb_nodes, len(t)))\n",
    "L = np.zeros((nb_nodes, len(t)))\n",
    "\n",
    "for N_node, node_index in zip(N, range(nb_nodes)):\n",
    "\n",
    "    initial_conditions = np.concatenate(\n",
    "        (Svc_0[node_index].flatten(), Ic_0[node_index], [R0[node_index]]))\n",
    "\n",
    "    soln = solve_ivp(\n",
    "        SIR, (t[0], t[9]), initial_conditions, args=(N_node, beta_old, gamma), t_eval=t[:10])\n",
    "\n",
    "    S[node_index, :, :, :10] = soln.y[:16].reshape(4, 4, -1)\n",
    "    I[node_index, :, :10] = soln.y[16:20]\n",
    "    R[node_index, :10] = soln.y[20]\n",
    "    L[node_index, :10] = Lc@soln.y[16:20]\n",
    "\n",
    "\n",
    "alpha_predicted = np.zeros((nb_nodes))\n",
    "\n",
    "\n",
    "def loss_func(alpha):\n",
    "    initial_conditions = np.concatenate(\n",
    "        (S[node_index, :, :, 9].flatten(), I[node_index, :, 9], [R[node_index, 9]]))\n",
    "    \n",
    "    soln = solve_ivp(\n",
    "        SIR, (t[10], t[29]), initial_conditions, args=(N_node, beta_old*alpha, gamma), t_eval=t[10:30])\n",
    "    \n",
    "    S[node_index, :, :, 10:30] = soln.y[:16].reshape(4, 4, -1)\n",
    "    I[node_index, :, 10:30] = soln.y[16:20]\n",
    "    R[node_index, 10:30] = soln.y[20]\n",
    "    L[node_index, 10:30] = Lc@soln.y[16:20]\n",
    "    \n",
    "    mse = mean_squared_error(L_observed[node_index, 10:30], L[node_index, 10:30])\n",
    "    \n",
    "\n",
    "    return mse\n",
    "\n",
    "\n",
    "for N_node, node_index in zip(N, range(nb_nodes)):\n",
    "    alpha_predicted[node_index] = fmin(loss_func, 0.5, disp=False)\n"
   ]
  },
  {
   "cell_type": "code",
   "execution_count": 4,
   "metadata": {},
   "outputs": [
    {
     "data": {
      "text/plain": [
       "array([0.22669983, 0.39484253, 0.22185059, 0.73707123, 0.70143738,\n",
       "       0.20029602, 0.35754395, 0.35007172, 0.3601532 , 0.16713867,\n",
       "       0.27568665, 0.32045898, 0.31580811, 0.20931396, 0.12352142,\n",
       "       0.22246094, 0.18051758, 0.56386719, 0.59924927, 0.14249268,\n",
       "       0.26811523, 0.27178955, 0.49281006, 0.26390381, 0.33642883,\n",
       "       0.15171814, 0.3757782 , 0.21018066, 0.44144897, 0.68422394,\n",
       "       0.29797363, 0.3010498 , 0.39297028, 0.16387329, 0.61907349,\n",
       "       0.66160202, 0.3225708 , 0.15137939, 0.28189697, 0.90992126,\n",
       "       0.41170807, 0.43126221, 0.43154907, 0.17045288, 0.24889221,\n",
       "       0.41756592, 0.71300049, 0.330896  , 0.23173828, 0.20965576,\n",
       "       0.13822021, 0.20452881, 0.33418884, 0.26639404, 0.14807129,\n",
       "       0.66747131, 0.17644043, 0.53582764, 0.27561264, 0.56835938,\n",
       "       0.36387939, 0.27543945, 0.34067383, 0.42473755, 0.24645996,\n",
       "       0.52313232, 0.20018311, 0.38779907, 0.46865234, 0.1552803 ,\n",
       "       0.14443359, 0.33525391, 0.2932373 , 0.44838867, 0.41690369,\n",
       "       0.30296936, 0.56982422, 0.66409302, 0.37408447, 0.20103149,\n",
       "       0.32358704, 0.51626587, 0.72009888, 0.35155029, 0.28358765,\n",
       "       0.28780823, 0.25011292, 0.54241028, 0.98475342, 0.51790771,\n",
       "       0.16503143, 0.33059082, 0.25706787, 0.22650146, 0.45488892,\n",
       "       0.19622192, 0.14606934, 0.89589844, 0.23728027, 0.69208984])"
      ]
     },
     "execution_count": 4,
     "metadata": {},
     "output_type": "execute_result"
    }
   ],
   "source": [
    "alpha_predicted"
   ]
  },
  {
   "cell_type": "markdown",
   "metadata": {},
   "source": [
    "## (b)"
   ]
  },
  {
   "cell_type": "code",
   "execution_count": 5,
   "metadata": {},
   "outputs": [],
   "source": [
    "import matplotlib.pyplot as plt\n",
    "\n",
    "def g(money):\n",
    "    alpha = 1/np.log2(2*10**(-3)*money+2)\n",
    "    return alpha\n",
    "\n",
    "def g_inv(alpha):\n",
    "    money = (2**(1/alpha)-2)/(2*10**(-3))\n",
    "    return money \n",
    "\n",
    "def scatter_plot(alpha_afterNPI):\n",
    "    plt.figure()\n",
    "    colors=(beta_old[np.newaxis,:,:]*Svc_0_PMF).mean(axis=(1,2))\n",
    "    plt.scatter(alpha_predicted, alpha_afterNPI, s=N/500, c=colors, cmap='jet', alpha=0.5)\n",
    "    plt.xlabel(r\"$\\alpha_{own}$\")\n",
    "    plt.ylabel(r\"$\\alpha_{after\\ NPI}$\")\n",
    "\n",
    "def total_recovered_difference(alpha_afterNPI):\n",
    "    \n",
    "    R_own = 0\n",
    "    R_NPI = 0\n",
    "    \n",
    "    for N_node, node_index in zip(N, range(nb_nodes)):\n",
    "        \n",
    "        inits = np.concatenate((S[node_index, :, :, 29].flatten(), I[node_index, :, 29], [R[node_index, 29]]))\n",
    "        \n",
    "        est_own = solve_ivp(\n",
    "            SIR, (t[30], t[199]), inits, args=(N_node, beta_old * alpha_predicted[node_index], gamma), t_eval=t[30:200])\n",
    "        \n",
    "        est_NPI = solve_ivp(\n",
    "            SIR, (t[30], t[199]), inits, args=(N_node, beta_old * alpha_afterNPI[node_index], gamma), t_eval=t[30:200])\n",
    "        \n",
    "        R_own += est_own.y[20][169]\n",
    "        R_NPI += est_NPI.y[20][169]\n",
    "    \n",
    "    print(\"Without NPI:\", int(R_own))\n",
    "    print(\"With NPI:\", int(R_NPI))\n",
    "    \n",
    "    difference = abs(int(R_own) - int(R_NPI))\n",
    "    \n",
    "    return difference"
   ]
  },
  {
   "cell_type": "markdown",
   "metadata": {},
   "source": [
    "### Policy #1"
   ]
  },
  {
   "cell_type": "markdown",
   "metadata": {},
   "source": [
    "i."
   ]
  },
  {
   "cell_type": "code",
   "execution_count": 6,
   "metadata": {},
   "outputs": [
    {
     "data": {
      "image/png": "[encoded data removed]",
      "text/plain": [
       "<Figure size 432x288 with 1 Axes>"
      ]
     },
     "metadata": {
      "needs_background": "light"
     },
     "output_type": "display_data"
    }
   ],
   "source": [
    "# Same amount of money for each node: 1,000,000 / 100 = 10,000 per node\n",
    "\n",
    "alpha_afterNPI_1 = g(g_inv(alpha_predicted) + 10000)\n",
    "\n",
    "scatter_plot(alpha_afterNPI_1)"
   ]
  },
  {
   "cell_type": "markdown",
   "metadata": {},
   "source": [
    "ii."
   ]
  },
  {
   "cell_type": "code",
   "execution_count": 7,
   "metadata": {},
   "outputs": [
    {
     "name": "stdout",
     "output_type": "stream",
     "text": [
      "Recovered/Succumbed After 200 Days: Policy 1\n",
      "\n",
      "Without NPI: 1646921\n",
      "With NPI: 1317197\n",
      "Difference for Policy 1: 329724\n"
     ]
    }
   ],
   "source": [
    "print(\"Recovered/Succumbed After 200 Days: Policy 1\\n\")\n",
    "print(\"Difference for Policy 1:\", total_recovered_difference(alpha_afterNPI_1))"
   ]
  },
  {
   "cell_type": "markdown",
   "metadata": {},
   "source": [
    "### Policy #2"
   ]
  },
  {
   "cell_type": "markdown",
   "metadata": {},
   "source": [
    "i. "
   ]
  },
  {
   "cell_type": "code",
   "execution_count": 8,
   "metadata": {},
   "outputs": [
    {
     "data": {
      "image/png": "[encoded data removed]",
      "text/plain": [
       "<Figure size 432x288 with 1 Axes>"
      ]
     },
     "metadata": {
      "needs_background": "light"
     },
     "output_type": "display_data"
    }
   ],
   "source": [
    "# Proportional to node population: 1,000,000 * (N[i] / sum(N)) per node\n",
    "\n",
    "prop_money = 1000000 * N / sum(N)\n",
    "\n",
    "alpha_afterNPI_2 = g(g_inv(alpha_predicted) + prop_money)\n",
    "\n",
    "scatter_plot(alpha_afterNPI_2)"
   ]
  },
  {
   "cell_type": "markdown",
   "metadata": {},
   "source": [
    "ii."
   ]
  },
  {
   "cell_type": "code",
   "execution_count": 9,
   "metadata": {},
   "outputs": [
    {
     "name": "stdout",
     "output_type": "stream",
     "text": [
      "Recovered/Succumbed After 200 Days: Policy 2\n",
      "\n",
      "Without NPI: 1646921\n",
      "With NPI: 1301069\n",
      "Difference for Policy 2: 345852\n"
     ]
    }
   ],
   "source": [
    "print(\"Recovered/Succumbed After 200 Days: Policy 2\\n\")\n",
    "print(\"Difference for Policy 2:\", total_recovered_difference(alpha_afterNPI_2))"
   ]
  },
  {
   "cell_type": "markdown",
   "metadata": {},
   "source": [
    "### Policy #3"
   ]
  },
  {
   "cell_type": "markdown",
   "metadata": {},
   "source": [
    "i."
   ]
  },
  {
   "cell_type": "code",
   "execution_count": 10,
   "metadata": {},
   "outputs": [
    {
     "name": "stdout",
     "output_type": "stream",
     "text": [
      "0.019732738053426208 , budget: 1000000.0001667528\n"
     ]
    },
    {
     "data": {
      "image/png": "[encoded data removed]",
      "text/plain": [
       "<Figure size 432x288 with 1 Axes>"
      ]
     },
     "metadata": {
      "needs_background": "light"
     },
     "output_type": "display_data"
    }
   ],
   "source": [
    "# Finding optimal delta_a\n",
    "\n",
    "def optimize_a(delta):\n",
    "    \n",
    "    alpha_projected = alpha_predicted - delta\n",
    "    \n",
    "    return abs(1000000 - sum(g_inv(alpha_projected) - g_inv(alpha_predicted)))\n",
    "\n",
    "delta = fmin(optimize_a, 0.05, disp=False)\n",
    "\n",
    "alpha_afterNPI_3 = alpha_predicted - delta[0]\n",
    "\n",
    "print(delta[0], \", budget:\", sum(g_inv(alpha_afterNPI_3) - g_inv(alpha_predicted)))\n",
    "\n",
    "scatter_plot(alpha_afterNPI_3)"
   ]
  },
  {
   "cell_type": "markdown",
   "metadata": {},
   "source": [
    "ii."
   ]
  },
  {
   "cell_type": "code",
   "execution_count": 11,
   "metadata": {},
   "outputs": [
    {
     "name": "stdout",
     "output_type": "stream",
     "text": [
      "Recovered/Succumbed After 200 Days: Policy 3\n",
      "\n",
      "Without NPI: 1646921\n",
      "With NPI: 1604732\n",
      "Difference for Policy 3: 42189\n"
     ]
    }
   ],
   "source": [
    "print(\"Recovered/Succumbed After 200 Days: Policy 3\\n\")\n",
    "print(\"Difference for Policy 3:\", total_recovered_difference(alpha_afterNPI_3))"
   ]
  },
  {
   "cell_type": "markdown",
   "metadata": {},
   "source": [
    "### Policy #4"
   ]
  },
  {
   "cell_type": "markdown",
   "metadata": {},
   "source": [
    "i."
   ]
  },
  {
   "cell_type": "code",
   "execution_count": 12,
   "metadata": {},
   "outputs": [
    {
     "data": {
      "image/png": "[encoded data removed]",
      "text/plain": [
       "<Figure size 432x288 with 1 Axes>"
      ]
     },
     "metadata": {
      "needs_background": "light"
     },
     "output_type": "display_data"
    }
   ],
   "source": [
    "# Proportional to a_own values: 1,000,000 * (alpha_predicted[i]) / sum(alpha_predicted)) per node\n",
    "\n",
    "prop_money_a = 1000000 * (alpha_predicted) / sum(alpha_predicted)\n",
    "\n",
    "alpha_afterNPI_4 = g(g_inv(alpha_predicted) + prop_money_a)\n",
    "\n",
    "scatter_plot(alpha_afterNPI_4)"
   ]
  },
  {
   "cell_type": "markdown",
   "metadata": {},
   "source": [
    "ii."
   ]
  },
  {
   "cell_type": "code",
   "execution_count": 13,
   "metadata": {},
   "outputs": [
    {
     "name": "stdout",
     "output_type": "stream",
     "text": [
      "Recovered/Succumbed After 200 Days: Policy 4\n",
      "\n",
      "Without NPI: 1646921\n",
      "With NPI: 1313899\n",
      "Difference for Policy 4: 333022\n"
     ]
    }
   ],
   "source": [
    "print(\"Recovered/Succumbed After 200 Days: Policy 4\\n\")\n",
    "print(\"Difference for Policy 4:\", total_recovered_difference(alpha_afterNPI_4))"
   ]
  },
  {
   "cell_type": "markdown",
   "metadata": {},
   "source": [
    "## (c)"
   ]
  },
  {
   "cell_type": "markdown",
   "metadata": {},
   "source": [
    "### Policy 1"
   ]
  },
  {
   "cell_type": "markdown",
   "metadata": {},
   "source": [
    "### Policy 2"
   ]
  },
  {
   "cell_type": "markdown",
   "metadata": {},
   "source": [
    "### Policy 3"
   ]
  },
  {
   "cell_type": "markdown",
   "metadata": {},
   "source": [
    "### Policy 4"
   ]
  }
 ],
 "metadata": {
  "kernelspec": {
   "display_name": "Python 3",
   "language": "python",
   "name": "python3"
  },
  "language_info": {
   "codemirror_mode": {
    "name": "ipython",
    "version": 3
   },
   "file_extension": ".py",
   "mimetype": "text/x-python",
   "name": "python",
   "nbconvert_exporter": "python",
   "pygments_lexer": "ipython3",
   "version": "3.8.5"
  }
 },
 "nbformat": 4,
 "nbformat_minor": 2
}
