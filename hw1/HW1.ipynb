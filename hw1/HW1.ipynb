{
 "cells": [
  {
   "cell_type": "markdown",
   "metadata": {
    "id": "DoO-oCQXottz"
   },
   "source": [
    "# Homework 1\n",
    "\n",
    "**DUE OCT 19th by 11:59PM**\n",
    "\n",
    "Homework 1 is done in Jupyter Notebook to give you a chance to familiarize yourself to this powerful tool for data analysis. \n",
    "\n",
    "In Jupyter Notebook, codes and texts are executed in cells. Texts are written in Markdown cell, as you can see in the homework instructions below. Codes are written in code cells. Cells are run one at a time. You can change the cell type by navigating to Cell -> Cell Type.\n",
    "\n",
    "There are spaces for you to enter your answers to the questions, either in code or text. Feel free to add more cells if you need (likely).\n",
    "\n",
    "In many parts, some Scikit-learn functions and classes have already been imported to give you leads on what you may need to use. You still need to refer to the Scikit-learn documentation to learn how the classes and methods work. You can use other publicly available libraries and packages if you want, as long as they finish the work. \n",
    "\n",
    "You are expected to turn in a **pdf version** of this notebook with all your **codes, results, and figures**. Make sure the figures and results are visible as you want them to appear in the pdf before turning it in. Please do not modify the instructions as doing so will limit our ability to follow and grade your answers."
   ]
  },
  {
   "cell_type": "markdown",
   "metadata": {
    "id": "9QnIt4o0qmGP"
   },
   "source": [
    "## Problem 1\n",
    "\n",
    "Increase your familiarity with Github. This problem needs to be finished with a partner. Follow these steps to finish the problem:\n",
    "\n",
    "1.   Create a github account.\n",
    "2.   Create a public repository and push a helloworld.py file.\n",
    "3.   Person $A$ forks Person $B$'s repo and modifies the file, then pushes to their own fork and finally creates a pull request for person B to merge.\n",
    "4.   Person $B$ reviews and merges the pull request.\n",
    "5.   Do the same for $A$ and $B$ reversed.\n",
    "\n",
    "My Repo: https://github.com/yuuknowwhoitis/PSTAT197_hw1  \n",
    "Allison Yih's Repo: https://github.com/allison1025/190hw1"
   ]
  },
  {
   "cell_type": "markdown",
   "metadata": {
    "id": "qKgBcjsyott0"
   },
   "source": [
    "## Problem 2\n",
    "\n",
    "In this problem, you will consider solving the least-squared problem in two different approaches, one using Gradient Descent and the other using the formula. After that, you will compare the results you get from both approaches."
   ]
  },
  {
   "cell_type": "markdown",
   "metadata": {
    "id": "afphJhGpott1"
   },
   "source": [
    "a) Load the 1-D data and the labels from **'linear_regression.csv'**. The first column contains the data values and the second column contains the labels. Store the data in a variable ***X***. Similarly, store the labels in a variable ***y***."
   ]
  },
  {
   "cell_type": "code",
   "execution_count": 1,
   "metadata": {},
   "outputs": [],
   "source": [
    "import pandas as pd\n",
    "import numpy as np\n",
    "import matplotlib.pyplot as plt"
   ]
  },
  {
   "cell_type": "code",
   "execution_count": 2,
   "metadata": {},
   "outputs": [],
   "source": [
    "linear_reg = pd.read_csv('linear_regression.csv', header=None)\n",
    "X = linear_reg.iloc[:,0].values.reshape(-1,1)\n",
    "y = linear_reg.iloc[:,1]"
   ]
  },
  {
   "cell_type": "markdown",
   "metadata": {
    "id": "3SVBu5DHott3"
   },
   "source": [
    "b) Fit a linear regression model, in the form $Ax + b$, using the formula. Print out the parameters $A$ and $b$."
   ]
  },
  {
   "cell_type": "code",
   "execution_count": 3,
   "metadata": {
    "id": "9Fy8FHUHott4"
   },
   "outputs": [
    {
     "data": {
      "text/plain": [
       "7.526346995925662"
      ]
     },
     "execution_count": 3,
     "metadata": {},
     "output_type": "execute_result"
    }
   ],
   "source": [
    "from sklearn.linear_model import LinearRegression\n",
    "\n",
    "reg = LinearRegression().fit(X,y)\n",
    "A = reg.coef_[0]\n",
    "A"
   ]
  },
  {
   "cell_type": "code",
   "execution_count": 4,
   "metadata": {},
   "outputs": [
    {
     "data": {
      "text/plain": [
       "0.20313216364663322"
      ]
     },
     "execution_count": 4,
     "metadata": {},
     "output_type": "execute_result"
    }
   ],
   "source": [
    "b = reg.intercept_\n",
    "b"
   ]
  },
  {
   "cell_type": "markdown",
   "metadata": {
    "id": "ljnZQZS6ott5"
   },
   "source": [
    "Visualize your result in a 2-D plot. Your plot should show the data points and the line $Ax + b$."
   ]
  },
  {
   "cell_type": "code",
   "execution_count": 5,
   "metadata": {
    "id": "8ayp0_6aott6"
   },
   "outputs": [
    {
     "name": "stdout",
     "output_type": "stream",
     "text": [
      "[325.30188729]\n"
     ]
    },
    {
     "data": {
      "image/png": "[encoded data removed]",
      "text/plain": [
       "<Figure size 432x288 with 1 Axes>"
      ]
     },
     "metadata": {
      "needs_background": "light"
     },
     "output_type": "display_data"
    }
   ],
   "source": [
    "plt.scatter(X, y)\n",
    "plt.plot(X, A*X + b, 'red')\n",
    "\n",
    "error = 0\n",
    "for i in range(1, len(X)):\n",
    "    error = error + (y[i-1] - (A*(X[i-1]) + b))**2\n",
    "print(error)"
   ]
  },
  {
   "cell_type": "markdown",
   "metadata": {
    "id": "j45fNRvUott8"
   },
   "source": [
    "c) Now, fit a linear regression model using Gradient Descent. Print out the parameters $A$ and $b$."
   ]
  },
  {
   "cell_type": "code",
   "execution_count": 6,
   "metadata": {
    "id": "0yeBTn96ott8"
   },
   "outputs": [],
   "source": [
    "from sklearn.linear_model import SGDRegressor\n",
    "from sklearn.pipeline import make_pipeline\n",
    "from sklearn.preprocessing import StandardScaler\n",
    "\n",
    "fit = SGDRegressor().fit(X,y)\n",
    "A_new = fit.coef_\n",
    "b_new = fit.intercept_"
   ]
  },
  {
   "cell_type": "code",
   "execution_count": 7,
   "metadata": {},
   "outputs": [
    {
     "data": {
      "text/plain": [
       "array([4.46345944])"
      ]
     },
     "execution_count": 7,
     "metadata": {},
     "output_type": "execute_result"
    }
   ],
   "source": [
    "A_new"
   ]
  },
  {
   "cell_type": "code",
   "execution_count": 8,
   "metadata": {},
   "outputs": [
    {
     "data": {
      "text/plain": [
       "array([3.30717811])"
      ]
     },
     "execution_count": 8,
     "metadata": {},
     "output_type": "execute_result"
    }
   ],
   "source": [
    "b_new"
   ]
  },
  {
   "cell_type": "markdown",
   "metadata": {
    "id": "AFyYnKvLott-"
   },
   "source": [
    "Visualize your result in a 2-D plot similar to that in part **b**. Compare your results from both parts."
   ]
  },
  {
   "cell_type": "code",
   "execution_count": 9,
   "metadata": {
    "id": "sv2sHAXVott-"
   },
   "outputs": [
    {
     "data": {
      "image/png": "[encoded data removed]",
      "text/plain": [
       "<Figure size 432x288 with 1 Axes>"
      ]
     },
     "metadata": {
      "needs_background": "light"
     },
     "output_type": "display_data"
    },
    {
     "name": "stdout",
     "output_type": "stream",
     "text": [
      "[365.52618521]\n"
     ]
    }
   ],
   "source": [
    "plt.scatter(X, y)\n",
    "plt.plot(X, A_new*X + b_new, 'red')\n",
    "plt.show()\n",
    "\n",
    "error = 0\n",
    "for i in range(1, len(X)):\n",
    "    error = error + (y[i-1] - (A_new*(X[i-1]) + b_new))**2\n",
    "print(error)"
   ]
  },
  {
   "cell_type": "markdown",
   "metadata": {
    "id": "pJjfeIAuotuA"
   },
   "source": [
    "## Problem 3\n",
    "\n",
    "In this problem, you will train classifiers using two widely used algorithms, Support Vector Machine (SVM) and Random Forest (RF). You will train and fine-tune each model using cross-validation (CV). After that, you will compare the performance of SVM and RF for this problem."
   ]
  },
  {
   "cell_type": "markdown",
   "metadata": {
    "id": "34BoVBR3otuA"
   },
   "source": [
    "a) A 13-D dataset with labels is given in **'wine.csv'**. The last column contains the labels. Store the data and the labels in variables ***X*** and ***y***, respectively."
   ]
  },
  {
   "cell_type": "code",
   "execution_count": 10,
   "metadata": {
    "id": "SRn_EaZqotuB"
   },
   "outputs": [],
   "source": [
    "wine = pd.read_csv('wine.csv', header = None)\n",
    "X = wine.iloc[:,0:13]\n",
    "y = wine.iloc[:,13]"
   ]
  },
  {
   "cell_type": "markdown",
   "metadata": {
    "id": "XhA84qMtotuD"
   },
   "source": [
    "Split the data into a train set and a test set. The size of the train set is 90% of the dataset."
   ]
  },
  {
   "cell_type": "code",
   "execution_count": 11,
   "metadata": {
    "id": "w-rLDnz2otuD"
   },
   "outputs": [],
   "source": [
    "from sklearn.model_selection import train_test_split\n",
    "\n",
    "X_train, X_test, y_train, y_test = train_test_split(X, y, test_size=0.1, random_state = 50)"
   ]
  },
  {
   "cell_type": "markdown",
   "metadata": {
    "id": "XzmsEV8HotuF"
   },
   "source": [
    "b) Find a good SVM model by performing 10-fold CV on the train set. Try different set of model parameters and record the resulting model performance during CV. Print out your best model's parameters and its performance (accuracy)."
   ]
  },
  {
   "cell_type": "code",
   "execution_count": 12,
   "metadata": {
    "id": "UkOVB_IKotuF"
   },
   "outputs": [
    {
     "name": "stdout",
     "output_type": "stream",
     "text": [
      "[0.79375 0.93125 0.975   0.9625  0.95625 0.95625 0.95625 0.95625]\n",
      "C:  {'C': 0.1}\n",
      "CV Score: 0.975\n"
     ]
    }
   ],
   "source": [
    "# A few methods to get you started with CV. \n",
    "# You are encouraged to look into the model_selection module of Scikit-learn to find tools that best fit your need.\n",
    "from sklearn.model_selection import StratifiedKFold, GridSearchCV, ParameterGrid\n",
    "from sklearn.svm import SVC\n",
    "\n",
    "params = {'C': [0.001, 0.01, 0.1, 0.5, 1, 5, 10, 100]}\n",
    "svc = SVC(kernel=\"linear\", gamma=\"auto\")\n",
    "\n",
    "model = GridSearchCV(svc, params, cv = 10)\n",
    "model.fit(X_train, y_train)\n",
    "\n",
    "cvscore = model.cv_results_['mean_test_score']\n",
    "print(cvscore)\n",
    "print(\"C: \", model.best_params_)\n",
    "print(\"CV Score:\", model.best_score_)"
   ]
  },
  {
   "cell_type": "markdown",
   "metadata": {
    "id": "QftYtzFW-i0E"
   },
   "source": [
    "Now train your best SVM model on the whole train dataset and test it on the test set. Print out your model's performance."
   ]
  },
  {
   "cell_type": "code",
   "execution_count": 13,
   "metadata": {
    "id": "9qCn-sLV_Zhc"
   },
   "outputs": [
    {
     "data": {
      "text/plain": [
       "0.9444444444444444"
      ]
     },
     "execution_count": 13,
     "metadata": {},
     "output_type": "execute_result"
    }
   ],
   "source": [
    "from sklearn.metrics import accuracy_score\n",
    "\n",
    "svm_model = SVC(C = 0.1, kernel = \"linear\", gamma = \"auto\")\n",
    "model.fit(X_train, y_train)\n",
    "\n",
    "y_pred = model.predict(X_test)\n",
    "accuracy_score(y_test, y_pred)"
   ]
  },
  {
   "cell_type": "markdown",
   "metadata": {
    "id": "mTsl_Cc8otuH"
   },
   "source": [
    "c) Similarly, find a good RF model by performing 10-fold CV on the train set. Print out your best model's parameters and its performance (accuracy)."
   ]
  },
  {
   "cell_type": "code",
   "execution_count": 14,
   "metadata": {
    "id": "bzWFF9MvotuH"
   },
   "outputs": [
    {
     "name": "stdout",
     "output_type": "stream",
     "text": [
      "  estimators criterion   score\n",
      "2         50      gini  0.9875\n",
      "8        100   entropy  0.9875\n",
      "1         10      gini  0.9750\n",
      "3        100      gini  0.9750\n",
      "4       1000      gini  0.9750\n",
      "n_estimators = 50\n",
      "criterion = gini\n",
      " CV Score = 0.98125\n"
     ]
    }
   ],
   "source": [
    "from sklearn.ensemble import RandomForestClassifier\n",
    "\n",
    "params = {'n_estimators': [1, 10, 50, 100, 1000], 'criterion' : [\"gini\", \"entropy\"]}\n",
    "rf = RandomForestClassifier()\n",
    "model = GridSearchCV(rf, params, cv = 10)\n",
    "model.fit(X_train, y_train)\n",
    "\n",
    "cvscore = model.cv_results_['mean_test_score']\n",
    "es = model.cv_results_['param_n_estimators']\n",
    "crits = model.cv_results_['param_criterion']\n",
    "d = {'estimators': es, 'criterion': crits, 'score': cvscore}\n",
    "cvdf = pd.DataFrame(data=d).sort_values(by='score', ascending = False)\n",
    "print(cvdf.head())\n",
    "print('n_estimators = 50\\ncriterion = gini\\n CV Score = 0.98125')"
   ]
  },
  {
   "cell_type": "markdown",
   "metadata": {
    "id": "5mfjPPRK_do8"
   },
   "source": [
    "Test your best RF model on the test set. Print out your model's performance."
   ]
  },
  {
   "cell_type": "code",
   "execution_count": 15,
   "metadata": {
    "id": "35f4P7h2_w61"
   },
   "outputs": [
    {
     "data": {
      "text/plain": [
       "0.9444444444444444"
      ]
     },
     "execution_count": 15,
     "metadata": {},
     "output_type": "execute_result"
    }
   ],
   "source": [
    "model = RandomForestClassifier(n_estimators = 10, criterion  = 'gini')\n",
    "model.fit(X_train, y_train)\n",
    "\n",
    "y_pred = model.predict(X_test)\n",
    "\n",
    "accuracy_score(y_test, y_pred)"
   ]
  },
  {
   "cell_type": "markdown",
   "metadata": {
    "id": "QMWu3IBStbRq"
   },
   "source": [
    "d) Compare the 2 models. Why do we need CV?"
   ]
  },
  {
   "cell_type": "markdown",
   "metadata": {},
   "source": [
    "CV is needed because we are tuning the hyperparameters in each model. CV is needed to make sure "
   ]
  },
  {
   "cell_type": "markdown",
   "metadata": {
    "id": "WmsQa5XEHUau"
   },
   "source": [
    "## Problem 5\n",
    "\n",
    "What is the hypothesis space for problems 1-3? What are the pros and cons of having a large hypothesis space? "
   ]
  },
  {
   "cell_type": "markdown",
   "metadata": {},
   "source": [
    "**Problem 1:** No hypothesis space    \n",
    "\n",
    "**Problem 2:**  The hypothesis space is the set of all the possible regression lines that span from the $R^2$ space.\n",
    "\n",
    "**Problem 3:**  The hypothesis space for the support vector machine model is the set of all hyperplanes that can be constructed in the 12d space, since our dataset has 13 variables. The random forest model has a hypothesis space of all possible forests that can be made.  \n",
    "\n",
    "**Pros:**  \n",
    "- Many possible output functions, so there's also many possible insights to learn\n",
    "\n",
    "**Cons:**  \n",
    "- Large space makes it hard to predict solution\n",
    "- Computationally intensive"
   ]
  },
  {
   "cell_type": "markdown",
   "metadata": {
    "id": "xYuqFx8xHa1M"
   },
   "source": [
    "## Problem 6\n",
    "\n",
    "Suppose we find the best binary classifier for a set of red points and another binary classifier for a set of blue points. Now, suppose we are given a new set of $R$ red and $B$ blue points that we can predict to be positive or negative. If we have to choose a subset of $k$ positive points from $R$ union $B$, what would be fair way for choosing. \n",
    "\n",
    "You are given a red dataset in 'R.csv' and a blue dataset in 'B.csv'. There is also a third test dataset in 'RBtest.csv'."
   ]
  },
  {
   "cell_type": "markdown",
   "metadata": {
    "id": "jFV_vm-orpDp"
   },
   "source": [
    "a) Load the datasets. All datasets are 2-D with the last column containing the labels. "
   ]
  },
  {
   "cell_type": "code",
   "execution_count": 33,
   "metadata": {},
   "outputs": [],
   "source": [
    "R = pd.read_csv('R.csv', header=None)\n",
    "B = pd.read_csv('B.csv',header=None)\n",
    "RBtest = pd.read_csv('RBtest.csv', names = ['X1','X2','Y'])\n",
    "\n",
    "R_X = R.iloc[:, 0:2]\n",
    "R_y = R.iloc[:,2]\n",
    "B_X = B.iloc[:, 0:2]\n",
    "B_y = B.iloc[:,2]\n",
    "\n",
    "RBtest_X = RBtest.iloc[:, 0:2]\n",
    "RBtest_y = RBtest.iloc[:, 2]"
   ]
  },
  {
   "cell_type": "markdown",
   "metadata": {
    "id": "RemkSEnPr1IB"
   },
   "source": [
    "b) Train 2 classifiers, one for the red dataset and the other for the blue dataset. You are free to choose the learning algorithm. "
   ]
  },
  {
   "cell_type": "code",
   "execution_count": 37,
   "metadata": {},
   "outputs": [
    {
     "name": "stdout",
     "output_type": "stream",
     "text": [
      "[0.53125  0.8625   0.859375 0.859375 0.859375 0.85     0.85     0.85    ]\n",
      "C:  {'C': 0.01}\n",
      "CV Score: 0.8625\n"
     ]
    }
   ],
   "source": [
    "RB = pd.concat([R, B])\n",
    "RB_X = RB.iloc[:, 0:2]\n",
    "RB_y = RB.iloc[:, 2]\n",
    "\n",
    "params = {'C': [0.001, 0.01, 0.1, 0.5, 1, 5, 10, 100]}\n",
    "svc = SVC(kernel='linear', gamma='auto')\n",
    "\n",
    "model = GridSearchCV(svc, params, cv = 10)\n",
    "model.fit(RB_X, RB_y)\n",
    "\n",
    "cvscore = model.cv_results_['mean_test_score']\n",
    "print(cvscore)\n",
    "print(\"C: \", model.best_params_)\n",
    "print(\"CV Score:\", model.best_score_)"
   ]
  },
  {
   "cell_type": "code",
   "execution_count": 39,
   "metadata": {},
   "outputs": [],
   "source": [
    "svc = SVC(kernel=\"linear\", gamma=\"auto\")\n",
    "model_R = SVC(C=0.01,kernel='linear', gamma='auto').fit(R_X, R_y)\n",
    "model_B = SVC(C=0.01,kernel='linear', gamma='auto').fit(B_X, B_y)"
   ]
  },
  {
   "cell_type": "markdown",
   "metadata": {
    "id": "bRp8Q1g6sQZW"
   },
   "source": [
    "c) Now use your models to classify instances in the test dataset. The models may agree on many points but may also disagree on many other points. Let's call the set of positive points classified by the red model $P_r$ and the set of positive points classified by the blue model $P_b$. You are asked to pick out $k$ points from the set $P_r \\cup P_b$. What is a fair way to do this. Demonstrate your answer with code and visualizations. "
   ]
  },
  {
   "cell_type": "code",
   "execution_count": 46,
   "metadata": {},
   "outputs": [],
   "source": [
    "from sklearn.metrics import accuracy_score\n",
    "\n",
    "R_pred = model_R.predict(RBtest_X)\n",
    "B_pred = model_B.predict(RBtest_X)\n",
    "\n",
    "R_accuracy = accuracy_score(RBtest_y, R_pred)\n",
    "B_accuracy = accuracy_score(RBtest_y, B_pred)"
   ]
  },
  {
   "cell_type": "code",
   "execution_count": 47,
   "metadata": {},
   "outputs": [
    {
     "data": {
      "text/plain": [
       "0.675"
      ]
     },
     "execution_count": 47,
     "metadata": {},
     "output_type": "execute_result"
    }
   ],
   "source": [
    "R_accuracy"
   ]
  },
  {
   "cell_type": "code",
   "execution_count": 48,
   "metadata": {},
   "outputs": [
    {
     "data": {
      "text/plain": [
       "0.9"
      ]
     },
     "execution_count": 48,
     "metadata": {},
     "output_type": "execute_result"
    }
   ],
   "source": [
    "B_accuracy"
   ]
  },
  {
   "cell_type": "code",
   "execution_count": 51,
   "metadata": {},
   "outputs": [],
   "source": [
    "R_ratio = R_accuracy/(R_accuracy + B_accuracy)\n",
    "B_ratio = B_accuracy/(R_accuracy + B_accuracy)"
   ]
  },
  {
   "cell_type": "code",
   "execution_count": 61,
   "metadata": {},
   "outputs": [
    {
     "data": {
      "text/plain": [
       "68.57142857142857"
      ]
     },
     "execution_count": 61,
     "metadata": {},
     "output_type": "execute_result"
    }
   ],
   "source": [
    "R_ratio*160"
   ]
  },
  {
   "cell_type": "code",
   "execution_count": 59,
   "metadata": {},
   "outputs": [
    {
     "data": {
      "text/html": [
       "<div>\n",
       "<style scoped>\n",
       "    .dataframe tbody tr th:only-of-type {\n",
       "        vertical-align: middle;\n",
       "    }\n",
       "\n",
       "    .dataframe tbody tr th {\n",
       "        vertical-align: top;\n",
       "    }\n",
       "\n",
       "    .dataframe thead th {\n",
       "        text-align: right;\n",
       "    }\n",
       "</style>\n",
       "<table border=\"1\" class=\"dataframe\">\n",
       "  <thead>\n",
       "    <tr style=\"text-align: right;\">\n",
       "      <th></th>\n",
       "      <th>0</th>\n",
       "      <th>1</th>\n",
       "      <th>2</th>\n",
       "    </tr>\n",
       "  </thead>\n",
       "  <tbody>\n",
       "    <tr>\n",
       "      <th>41</th>\n",
       "      <td>-0.41</td>\n",
       "      <td>-0.63</td>\n",
       "      <td>0</td>\n",
       "    </tr>\n",
       "    <tr>\n",
       "      <th>150</th>\n",
       "      <td>0.76</td>\n",
       "      <td>1.24</td>\n",
       "      <td>0</td>\n",
       "    </tr>\n",
       "    <tr>\n",
       "      <th>65</th>\n",
       "      <td>0.71</td>\n",
       "      <td>1.74</td>\n",
       "      <td>0</td>\n",
       "    </tr>\n",
       "    <tr>\n",
       "      <th>80</th>\n",
       "      <td>0.69</td>\n",
       "      <td>1.57</td>\n",
       "      <td>1</td>\n",
       "    </tr>\n",
       "    <tr>\n",
       "      <th>5</th>\n",
       "      <td>0.34</td>\n",
       "      <td>0.25</td>\n",
       "      <td>1</td>\n",
       "    </tr>\n",
       "    <tr>\n",
       "      <th>...</th>\n",
       "      <td>...</td>\n",
       "      <td>...</td>\n",
       "      <td>...</td>\n",
       "    </tr>\n",
       "    <tr>\n",
       "      <th>1</th>\n",
       "      <td>-1.20</td>\n",
       "      <td>-0.25</td>\n",
       "      <td>0</td>\n",
       "    </tr>\n",
       "    <tr>\n",
       "      <th>18</th>\n",
       "      <td>-0.66</td>\n",
       "      <td>-0.38</td>\n",
       "      <td>0</td>\n",
       "    </tr>\n",
       "    <tr>\n",
       "      <th>110</th>\n",
       "      <td>1.67</td>\n",
       "      <td>1.49</td>\n",
       "      <td>1</td>\n",
       "    </tr>\n",
       "    <tr>\n",
       "      <th>86</th>\n",
       "      <td>2.04</td>\n",
       "      <td>2.06</td>\n",
       "      <td>1</td>\n",
       "    </tr>\n",
       "    <tr>\n",
       "      <th>133</th>\n",
       "      <td>1.16</td>\n",
       "      <td>-0.95</td>\n",
       "      <td>0</td>\n",
       "    </tr>\n",
       "  </tbody>\n",
       "</table>\n",
       "<p>69 rows × 3 columns</p>\n",
       "</div>"
      ],
      "text/plain": [
       "        0     1  2\n",
       "41  -0.41 -0.63  0\n",
       "150  0.76  1.24  0\n",
       "65   0.71  1.74  0\n",
       "80   0.69  1.57  1\n",
       "5    0.34  0.25  1\n",
       "..    ...   ... ..\n",
       "1   -1.20 -0.25  0\n",
       "18  -0.66 -0.38  0\n",
       "110  1.67  1.49  1\n",
       "86   2.04  2.06  1\n",
       "133  1.16 -0.95  0\n",
       "\n",
       "[69 rows x 3 columns]"
      ]
     },
     "execution_count": 59,
     "metadata": {},
     "output_type": "execute_result"
    }
   ],
   "source": [
    "R.sample(frac=R_ratio)"
   ]
  },
  {
   "cell_type": "code",
   "execution_count": 24,
   "metadata": {
    "id": "INVo2ChrtSOm"
   },
   "outputs": [
    {
     "data": {
      "text/plain": [
       "<matplotlib.collections.PathCollection at 0x1ebece52808>"
      ]
     },
     "execution_count": 24,
     "metadata": {},
     "output_type": "execute_result"
    },
    {
     "data": {
      "image/png": "[encoded data removed]",
      "text/plain": [
       "<Figure size 432x288 with 1 Axes>"
      ]
     },
     "metadata": {
      "needs_background": "light"
     },
     "output_type": "display_data"
    }
   ],
   "source": [
    "P_r = model_R.predict(RBtest_X)\n",
    "P_b = model_B.predict(RBtest_X)\n",
    "\n",
    "plt.scatter(RBtest_X.iloc[:,0], RBtest_X.iloc[:,1], c=P_r)"
   ]
  },
  {
   "cell_type": "code",
   "execution_count": 25,
   "metadata": {},
   "outputs": [
    {
     "data": {
      "text/plain": [
       "<matplotlib.collections.PathCollection at 0x1ebece52888>"
      ]
     },
     "execution_count": 25,
     "metadata": {},
     "output_type": "execute_result"
    },
    {
     "data": {
      "image/png": "[encoded data removed]",
      "text/plain": [
       "<Figure size 432x288 with 1 Axes>"
      ]
     },
     "metadata": {
      "needs_background": "light"
     },
     "output_type": "display_data"
    }
   ],
   "source": [
    "plt.scatter(RBtest_X.iloc[:,0], RBtest_X.iloc[:,1], c=P_b)"
   ]
  },
  {
   "cell_type": "code",
   "execution_count": null,
   "metadata": {},
   "outputs": [],
   "source": []
  }
 ],
 "metadata": {
  "colab": {
   "collapsed_sections": [],
   "name": "HW1.ipynb",
   "provenance": []
  },
  "kernelspec": {
   "display_name": "Python 3",
   "language": "python",
   "name": "python3"
  },
  "language_info": {
   "codemirror_mode": {
    "name": "ipython",
    "version": 3
   },
   "file_extension": ".py",
   "mimetype": "text/x-python",
   "name": "python",
   "nbconvert_exporter": "python",
   "pygments_lexer": "ipython3",
   "version": "3.7.9"
  }
 },
 "nbformat": 4,
 "nbformat_minor": 4
}
