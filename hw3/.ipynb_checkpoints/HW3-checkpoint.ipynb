{
 "cells": [
  {
   "cell_type": "markdown",
   "metadata": {
    "id": "XPsgwxLU2Sed"
   },
   "source": [
    "# Homework 3\n",
    "\n",
    "DUE DEC 1st at 11:59 PM\n"
   ]
  },
  {
   "cell_type": "markdown",
   "metadata": {
    "id": "dgdeprwQ2See"
   },
   "source": [
    "## Problem 1\n",
    "\n",
    "In this problem, you will implement a simple feed-forward neural network using PyTorch, a straight-forward and simple-to-pickup framework for quickly prototyping deep learning model. \n",
    "\n",
    "PyTorch provides 2 powerful things. First, a nice data structure called Tensor (basically a matrix, similar to Numpy ndarray). Tensor is optimized for matrix calculation and can be loaded to a GPU. Tensor is also implemented so that it's easy to calculate and pass back chains of gradients, which is extremely useful for backpropagation on neural network. Second, a nice inner mechanism called Autograd that nicely map variables involved a chain of calculations and efficiently calculate their gradients via the chain rule when needed. Read more here: https://towardsdatascience.com/pytorch-autograd-understanding-the-heart-of-pytorchs-magic-2686cd94ec95  \n",
    "\n",
    "You will train and evaluate the model on a simple dataset for classifying seeds. The dataset has 7 features and 3 labels. Refer to the example from the discussion session if needed. \n",
    "\n",
    "**In this problem, you are given a good amount of freedom in tweaking your choices in designing the network. As long as it's still a feed-forward network, it's fine. Accuracy does not matter as long as it's reasonable (like above 80%) but do try to achieve a high accuracy.**\n",
    "\n",
    "(Optional): the dataset provided to you is very simple. Instead, you can challenge yourself by trying more difficult datasets. Some datasets that you can loaded directly using PyTorch:\n",
    "- MNIST (Most famous dataset for getting into Deep Learning)\n",
    "- Fashion-MNIST\n",
    "- Kuzushiji-MNIST \n",
    "\n",
    "The datasets are available at https://pytorch.org/docs/stable/torchvision/datasets.html. You will get the same grade no matter what dataset you use. \n",
    "\n",
    "### Part a\n",
    "Firstly, load and inspect the dataset from \"seeds_dataset.csv\". Split them into a train set (90%) and a test set (10%). You should be quite comfortable with these operations by now. "
   ]
  },
  {
   "cell_type": "code",
   "execution_count": null,
   "metadata": {
    "id": "3eztCAG02See"
   },
   "outputs": [],
   "source": []
  },
  {
   "cell_type": "markdown",
   "metadata": {
    "id": "_KpCu45p2See"
   },
   "source": [
    "### Part b \n",
    "Create a Python class for our neural network model. The network should have 1 input layer, at least 1 hidden layer, and 1 output layer. You are free to choose the size and the number of hidden layers (it may affect the performance so try tweaking around a bit), and the activation function (or no activation at all).\n",
    "\n",
    "Some popular activation functions that you can try:\n",
    "- Sigmoid (torch.sigmoid)\n",
    "- ReLU (torch.relu)\n",
    "- Tanh (torch.tanh)"
   ]
  },
  {
   "cell_type": "code",
   "execution_count": null,
   "metadata": {
    "id": "uH6tsTUr2See"
   },
   "outputs": [],
   "source": [
    "import torch\n",
    "\n",
    "class network(torch.nn.Module):\n",
    "    \n",
    "    # Create the network class by filling in this block of code"
   ]
  },
  {
   "cell_type": "markdown",
   "metadata": {
    "id": "ebDMfYee2See"
   },
   "source": [
    "### Part c \n",
    "Train the network using the train dataset. You are free to choose any suitable optimizer and loss function provided by PyTorch (or you can just use SGD optimizer and CrossEntropyLoss like we did in the discussion session for simplicity). After each epoch, record the current loss and the current accuracy. The current accuracy is obtained by evaluating the model on the train dataset. \n",
    "\n",
    "Some optimizers that you can try:\n",
    "- SGD\n",
    "- Adagrad\n",
    "- Adam\n",
    "\n",
    "https://pytorch.org/docs/stable/optim.html"
   ]
  },
  {
   "cell_type": "code",
   "execution_count": null,
   "metadata": {
    "id": "VTCFkzmm2See"
   },
   "outputs": [],
   "source": [
    "LEARNING_RATE = 0.01\n",
    "EPOCHS = 20\n",
    "\n",
    "for epoch in range(EPOCHS):\n",
    "    \n",
    "    # Train the network by filling in this block of code"
   ]
  },
  {
   "cell_type": "markdown",
   "metadata": {
    "id": "BoVUZHu02See"
   },
   "source": [
    "Plot how the loss and the accuracy change over the epochs. "
   ]
  },
  {
   "cell_type": "code",
   "execution_count": null,
   "metadata": {
    "id": "R4T-5QDs2See"
   },
   "outputs": [],
   "source": []
  },
  {
   "cell_type": "markdown",
   "metadata": {
    "id": "bvFzNDRT2See"
   },
   "source": [
    "### Part d \n",
    "Evaluate the model on the test dataset. Print out the accuracy. Does this accuracy agrees with the training accuracy showed on the plot? Why may they be different?"
   ]
  },
  {
   "cell_type": "code",
   "execution_count": null,
   "metadata": {
    "id": "t0eC-Wi32See"
   },
   "outputs": [],
   "source": []
  },
  {
   "cell_type": "markdown",
   "metadata": {
    "id": "iy6C2pFfyXIa"
   },
   "source": [
    "## Problem 2\n",
    "\n",
    "If you haven't done so already, please read Chapter 2 (on fairness) of the textbook."
   ]
  },
  {
   "cell_type": "markdown",
   "metadata": {
    "id": "pe6qfhRFyXIa"
   },
   "source": [
    "### Part a\n",
    "\n",
    "Import the 'semi_synthetic.csv' dataset. This dataset is a modified version of the UCI Credit card dataset (details [here](https://archive.ics.uci.edu/ml/datasets/default+of+credit+card+clients)). We added a new synthetic feature to this dataset called `LIMIT_BAL`. It is highly predictive for `SEX==2` but not at all for `SEX==1`. As it turns out, this causes issues with fairness where models rely too much on `LIMIT_BAL` and discriminate against `SEX==2`. We will try to mitigate this in terms of the fairness criterion 'Statistical Parity' as it's mentioned in the textbook."
   ]
  },
  {
   "cell_type": "code",
   "execution_count": null,
   "metadata": {
    "id": "HaqdFHPvyXIa"
   },
   "outputs": [],
   "source": [
    "import pandas as pd\n"
   ]
  },
  {
   "cell_type": "markdown",
   "metadata": {
    "id": "QJhtmsUHyXIa"
   },
   "source": [
    "Extract features from the dataset (all columns except last) and call it `X`. Extract last column and call it `Y`. Also extract the `SEX` column and call this `SF` (for sensitive feature). Split all of these arrays data into train and test sets. You can use `sklearn.model_selection.train_test_split` and 20% ratio for the test dataset. Pass `stratify=Y` to `train_test_split` if you're using it. This ensures that both test and train datasets have the same ratio of 0/1 labels."
   ]
  },
  {
   "cell_type": "code",
   "execution_count": null,
   "metadata": {
    "id": "4RWhQl8zyXIa"
   },
   "outputs": [],
   "source": [
    "from sklearn.model_selection import train_test_split \n",
    "import numpy as np\n",
    "import random\n",
    "random.seed(2020)\n",
    "np.random.seed(2020)\n",
    "\n"
   ]
  },
  {
   "cell_type": "markdown",
   "metadata": {
    "id": "6_kwHg4SyXIa"
   },
   "source": [
    "Use a random forest classifier (whichever hyperparameters you want, you may leave it default) and train it using the train dataset (only `X_train` and `Y_train`. We will not use `SF_train` yet.)"
   ]
  },
  {
   "cell_type": "code",
   "execution_count": null,
   "metadata": {
    "id": "YESO3KAfyXIa"
   },
   "outputs": [],
   "source": [
    "from sklearn.ensemble import RandomForestClassifier\n"
   ]
  },
  {
   "cell_type": "markdown",
   "metadata": {
    "id": "_U4MeVC3yXIa"
   },
   "source": [
    "### Part b\n",
    "\n",
    "Now we will consider the 'statistical parity' fairness metric on the test dataset. This basically means we compare the selection rates (i.e. predicted labels being 1) conditioned on sex and look at their difference/ratio. To do this, print 5 things: \n",
    "\n",
    "1. Overall selection rate (what percent is predicted as 1)\n",
    "2. Selection rate for `SEX==1`\n",
    "3. Selection rate for `SEX==2`\n",
    "4. Difference between 2. and 3.\n",
    "5. Ratio of 2. and 3.\n",
    "\n",
    "Note that we didn't use anything related to how accurate the model is."
   ]
  },
  {
   "cell_type": "code",
   "execution_count": null,
   "metadata": {
    "id": "4qQcj-_PyXIa"
   },
   "outputs": [],
   "source": []
  },
  {
   "cell_type": "markdown",
   "metadata": {
    "id": "R1Yn6sXXyXIa"
   },
   "source": [
    "There is a new Python package called `fairlearn` that aims to help machine learning researchers use fairness techniques more easily. Go ahead and download this package (`pip install fairlearn` or `conda install fairlearn`). Note: the authors of `fairlearn` call 'statistical parity' from the textbook as 'demographic parity'.\n",
    "\n",
    "We will use `selection_rate`, `demographic_parity_difference`, `demographic_parity_ratio` from `fairlearn.metrics` to calculate 1., 4. and 5. above. The way to use these functions is: first argument `Y_test`, second argument `Y_prediction`, and for `demographic_parity_difference` and `demographic_parity_ratio` you need to give a keyword argument for the 'sensitive feature' by `sensitive_features=SF_test`.\n",
    "\n",
    "Use these three functions and confirm your earlier calculations for 1., 4. and 5."
   ]
  },
  {
   "cell_type": "code",
   "execution_count": null,
   "metadata": {
    "id": "I27r9Mx1yXIa"
   },
   "outputs": [],
   "source": [
    "from fairlearn.metrics import selection_rate, demographic_parity_difference, demographic_parity_ratio\n"
   ]
  },
  {
   "cell_type": "markdown",
   "metadata": {
    "id": "XViy0I5EyXIa"
   },
   "source": [
    "### Part c\n",
    "### Mitigating Unfairness with Giving Weights to Datapoints\n",
    "\n",
    "Now we are going to use the `GridSearch` function from `fairlearn.reductions` to try to mitigate this statistical parity discrepancy. This is one of the many ways to achieve this. What this function does is it gives higher weights to certain datapoints (determined by the sensitive feature) in order to change what the model learns. It automatically uses grid search to determine which weight should be given to `SEX==1` datapoints vs `SEX==2` datapoints (if you're interested you can read the source code). While it is called grid search, the space it searches is 1-dimensional. For our purposes, `GridSearch` takes four arguments: \n",
    "\n",
    "1. The model you defined above. This is a non-keyword argument.\n",
    "2. Constraint. This needs to be an object defined by `fairlearn`, the class we will be using is `fairlearn.reductions.DemographicParity`. It corresponds to minimizing the difference in selection rates (4. from above). This is a non-keyword argument.\n",
    "3. (Keyword argument) `grid_limit`. This determines the boundaries of the grid search. Basically, the `GridSearch` function will search the interval \\[-`grid_limit`,`grid_limit`\\] to find the weights. Choose this to be 0.8.\n",
    "3. (Keyword argument) `grid_size`. This determines how many points there will be in the grid search. Choose this to be 21.\n",
    "\n",
    "Just like `sklearn.model_selection.GridSearchCV` we have seen in HW1, `fairlearn.reductions.GridSearch` is also a wrapper, so you need to call `.fit()` on this wrapper (not the model directly). Training should be done in less than 5 minutes. In the end this wrapper will contain `grid_size` many models, each corresponding to a different weight for datapoints."
   ]
  },
  {
   "cell_type": "code",
   "execution_count": null,
   "metadata": {
    "id": "67Y6ezsJyXIa"
   },
   "outputs": [],
   "source": [
    "from fairlearn.reductions import GridSearch, DemographicParity\n"
   ]
  },
  {
   "cell_type": "markdown",
   "metadata": {
    "id": "15EO5RaTyXIa"
   },
   "source": [
    "The `GridSearch` wrapper object you trained has a field called `predictors_`. This gives a list of all the models trained in this grid search, which will be of size `grid_size`."
   ]
  },
  {
   "cell_type": "code",
   "execution_count": null,
   "metadata": {
    "id": "B7HdpQm_yXIa"
   },
   "outputs": [],
   "source": [
    "predictions_sweep = [predictor.predict(X_test) for predictor in gridsearch_wrapper.predictors_] \n",
    "accuracy_sweep = [predictor.score(X_test, Y_test) for predictor in gridsearch_wrapper.predictors_] "
   ]
  },
  {
   "cell_type": "markdown",
   "metadata": {
    "id": "tXGkicwxyXIa"
   },
   "source": [
    "Notice that `predictions_sweep` is a 21 element list. Each of these elements is a numpy array that contains the predictions (`Y_pred`) for `X_test` for that particular model. Use `demographic_parity_difference` like you did above to find the difference in selection rates for each of these models and store these 'fairness metrics' in a numpy array (it too will be size 21)."
   ]
  },
  {
   "cell_type": "code",
   "execution_count": null,
   "metadata": {
    "id": "SZ-bxFwmyXIa"
   },
   "outputs": [],
   "source": [
    "from sklearn.metrics import accuracy_score\n"
   ]
  },
  {
   "cell_type": "markdown",
   "metadata": {
    "id": "ydkOWKGJyXIa"
   },
   "source": [
    "Plot the accuracy vs difference in selection rates for all these models in a scatter plot."
   ]
  },
  {
   "cell_type": "code",
   "execution_count": null,
   "metadata": {
    "id": "zzW_0fq2yXIa"
   },
   "outputs": [],
   "source": [
    "import matplotlib.pyplot as plt\n",
    "plt.figure()\n",
    "\n",
    "plt.show()"
   ]
  },
  {
   "cell_type": "markdown",
   "metadata": {
    "id": "uLrO9mVFyXIa"
   },
   "source": [
    "### Part d \n",
    "\n",
    "Now calculate the *pareto front*: go over each (accuracy, difference in selection rates) pair and compare it to every other pair. If you find the first pair to have lower accuracy and higher difference in selection rate, discard it."
   ]
  },
  {
   "cell_type": "code",
   "execution_count": null,
   "metadata": {
    "id": "4ElVQmrHyXIa"
   },
   "outputs": [],
   "source": []
  },
  {
   "cell_type": "markdown",
   "metadata": {
    "id": "23SaZvzSyXIa"
   },
   "source": [
    "* Plot the accuracy vs difference in selection rates for all the models the grid search in a scatter plot.\n",
    "* On the same plot, plot the accuracy vs difference in selection rates for the points on the pareto front. Make these points red."
   ]
  },
  {
   "cell_type": "code",
   "execution_count": null,
   "metadata": {
    "id": "IGAsufEOyXIa"
   },
   "outputs": [],
   "source": [
    "plt.figure()\n",
    "\n",
    "plt.legend()\n",
    "plt.show()"
   ]
  },
  {
   "cell_type": "markdown",
   "metadata": {
    "id": "hKA_zKOByXIa"
   },
   "source": [
    "Which one of these models would you choose to use? Why?"
   ]
  },
  {
   "cell_type": "markdown",
   "metadata": {
    "id": "K-qHCrNsyXIa"
   },
   "source": [
    "## Problem 3\n",
    "\n",
    "This problem builds on ideas from paper 2a in Module 1: “Against prediction: Sentencing, Policing, And Punishing In An Actuarial Age,” Chicago Public Law And Legal Theory Working Paper No. 94, Harcourt, 2005. \n",
    "\n",
    "Suppose we have two groups $A$ and $B$ of population sizes $n$ and $9n$. We find that under equal surveillance, group $A$’s offending rate is $2$ offenses per month per person and that of group $B$ is $1$ offense per person per month (See Figure on page 17 of the above paper). Equal surveillance means that out of a total of $10m$ monitors, $m$ monitors are assigned to group $A$ and $9m$ monitors are assigned to group $B$. The surveillance is $\\frac{m}{n}$ per capita for both groups. So, under equal surveillance, the combined offending rate over both groups is $11n$ per month. \n",
    "\n",
    "Suppose we want to bring down the overall offending rate by increasing the monitors for group $A$. In order to do that we collected some data and found that we could model the rate of decrease in offenses for group $A$ by a function as follows:\n",
    "\tIf we increase the per capita surveillance from $\\frac{m}{n}$ to $\\frac{m}{n} (1 + \\delta_A)$, the offending rate declines to $2e^{- \\alpha \\delta_A}$. ($\\alpha>0$)\n",
    "\n",
    "Similarly, we modeled the rate of increase in offenses for group $B$ by a function under reduced surveillance as follows:\n",
    "\tIf we decrease the per capita monitoring rate from $\\frac{m}{n}$ to $\\frac{m}{n} (1 - \\delta_B)$, the offending rate rises to $e^{ \\beta \\delta_B}$. ($\\beta>0$)\n",
    "\n",
    "How would you distribute the monitors so that \n",
    "\n",
    "**a)** Both groups had the same offending rate?\n",
    "\n",
    "**b)** The combined offending rate was minimized?\n",
    "\n",
    "\n",
    "Consider 3 different scenarios when $\\alpha > \\beta$, $\\alpha = \\beta$, and $\\alpha < \\beta$. \n",
    "\n",
    "**c)** For each of the scenarios, which of the above solutions would you prefer and why?\n",
    "\n",
    "**TIPS**:\n",
    "- For **part a** and **part b**, answer by calculating $\\delta_A$ and $\\delta_B$.\n",
    "- Try to set up equations from the given information. This problem mostly consists of algebra.\n",
    "- If you do it correctly, **part c** should makes sense immediately.\n"
   ]
  },
  {
   "cell_type": "markdown",
   "metadata": {
    "id": "IY2pVtwPyXIa"
   },
   "source": []
  }
 ],
 "metadata": {
  "colab": {
   "name": "HW3.ipynb",
   "provenance": []
  },
  "kernelspec": {
   "display_name": "Python 3",
   "language": "python",
   "name": "python3"
  },
  "language_info": {
   "codemirror_mode": {
    "name": "ipython",
    "version": 3
   },
   "file_extension": ".py",
   "mimetype": "text/x-python",
   "name": "python",
   "nbconvert_exporter": "python",
   "pygments_lexer": "ipython3",
   "version": "3.8.5"
  }
 },
 "nbformat": 4,
 "nbformat_minor": 1
}
